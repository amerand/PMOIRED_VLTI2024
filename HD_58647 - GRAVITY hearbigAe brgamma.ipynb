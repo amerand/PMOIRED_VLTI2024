{
 "cells": [
  {
   "cell_type": "markdown",
   "id": "41c94cec-f712-44b7-a05b-bc5ccd24b849",
   "metadata": {},
   "source": [
    "# HD 58647 (Herbig Ae): continuum GRAVITY,  Br $\\gamma$ emmission\n",
    "\n",
    "The goal is to model the YSO HD 58647 observed by GRAVITY. In the continuum, the inner star+rim is seen. There is also an emission line in Bracket$_\\gamma$ ($\\lambda$~2.167$\\mu$m) which we can model.\n",
    "\n",
    "- AMBER (K-band) paper with Brackett$_\\gamma$ fit [Kurosawa et al. (2016)](https://ui.adsabs.harvard.edu/abs/2016MNRAS.457.2236K/abstract)\n",
    "- PIONIER (H-band) paper in the continuum [Lazareff et al. (2017)](https://ui.adsabs.harvard.edu/abs/2017A%26A...599A..85L/abstract)\n",
    "- GRAVITY (K-band) paper where Brackett$_\\gamma$ has been modeled, with better u,v coverage than the AMBER paper [Bouarour et al. (2024)](https://arxiv.org/pdf/2312.08819.pdf)"
   ]
  },
  {
   "cell_type": "code",
   "execution_count": 1,
   "id": "2245fead-df39-43b2-aa83-0d5e545f52e7",
   "metadata": {},
   "outputs": [
    {
     "name": "stdout",
     "output_type": "stream",
     "text": [
      "1.2.10 /Library/Frameworks/Python.framework/Versions/3.12/lib/python3.12/site-packages/pmoired/__init__.py\n"
     ]
    }
   ],
   "source": [
    "# `widget` requires `pip install ipympl`\n",
    "%matplotlib widget \n",
    "import numpy as np\n",
    "import matplotlib.pyplot as plt\n",
    "#import sys\n",
    "#sys.path = ['../PMOIRED'] + sys.path\n",
    "\n",
    "import pmoired\n",
    "pmoired.FIG_MAX_WIDTH = 12\n",
    "pmoired.FIG_MAX_HEIGHT = 12\n",
    "\n",
    "from pmoired import tellcorr\n",
    "print(pmoired.__version__, pmoired.__file__)\n",
    "\n",
    "#import solutions"
   ]
  },
  {
   "cell_type": "markdown",
   "id": "af4da810-8c24-4ef8-b127-2025cc733388",
   "metadata": {},
   "source": [
    "# Model K-band GRAVITY continuum data\n",
    "We use K-band GRAVITY data binned by a factor 100 to reach R=$\\lambda/\\delta\\lambda\\sim40$."
   ]
  },
  {
   "cell_type": "code",
   "execution_count": null,
   "id": "3da2ca2e-e875-4c47-927a-7ffc22087b1c",
   "metadata": {},
   "outputs": [],
   "source": [
    "# -- load data\n",
    "oi = pmoired.OI('./DATA/GRA*viscalibrated.fits', insname=\"GRAVITY_SC\", binning=100)\n",
    "oi.show()"
   ]
  },
  {
   "cell_type": "markdown",
   "id": "2d408a29-bfab-4b17-89a9-4c3d69bd7c3e",
   "metadata": {},
   "source": [
    "## Model the star+rim in the K-band continuum\n",
    "\n",
    "Read and Follow the `PMOIRED` tutorial on [YSO disks modeling](https://htmlpreview.github.io/?https://github.com/amerand/PMOIRED_examples/blob/main/html/EX2%20chromatic%20YSO%20disk.html) to come up with a good disk model in the continuum. \n",
    "\n",
    "The cell is initialised with a simple model of unresolved `star` and a Gaussian `rim`. Note the way the flux is defined, so the total flux is equal to 1 at $\\lambda=2.166\\,\\mu m$.\n",
    "\n",
    "Using the tutorial, you can:\n",
    "- tilt and rotate with `rim,projang` and `rim,incl`\n",
    "- change the `rim` to a ring by replacing `rim,fwhm` by `rim,diamin` and `rim,diamout`\n",
    "- play around with the profile of the ring with `'rim,profile':'$R**-2'` or anything you want! \n",
    "- add azimuthal variations with `rim,az amp1`, `rim,az projang1` (and higher!) to introduce non-0 closure phase\n",
    "- do you think you need a third component, why/why not?\n",
    "\n",
    "You should be able to reach a reduced $\\chi^2$ of less than 5. \n",
    "\n",
    "*Pay attention to uncertainties and correlations to decide whether a parameter is fitted or degenerated with other parameters.*"
   ]
  },
  {
   "cell_type": "code",
   "execution_count": null,
   "id": "52ea7a25-75e6-4226-844b-ed9ef645f8fa",
   "metadata": {},
   "outputs": [],
   "source": [
    "from importlib import reload\n",
    "reload(solutions)\n",
    "\n",
    "m = {'star,ud':0, 'star,spectrum': '(1-$rim,F0)*($WL/2.166)**-3.8',\n",
    "     'rim,fwhm':8, 'rim,spectrum': '$rim,F0*($WL/2.166)**$rim,SPX', \n",
    "     'rim,F0':0.9, 'rim,SPX':-1,\n",
    "    }\n",
    "doNotFit, prior = ['star,ud'], []\n",
    "\n",
    "# -- solution\n",
    "#m, doNotFit, prior = solutions.continuum['m'], solutions.continuum['doNotFit'], solutions.continuum['prior']\n",
    "\n",
    "# -- setup fit \n",
    "oi.setupFit({'obs':['|V|', 'T3PHI']})\n",
    "\n",
    "# -- before fitting, you should check your model against the data to get a good first guess\n",
    "doFit = False\n",
    "if doFit:\n",
    "    oi.doFit(m, doNotFit=doNotFit, prior=prior)\n",
    "    m = oi.bestfit['best']\n",
    "\n",
    "oi.show(model=m, imFov=21, imMax='99', imPow=0.5, imPlx=3.2831)    "
   ]
  },
  {
   "cell_type": "markdown",
   "id": "041046f2-9c02-4726-9324-db8c8e0ef99b",
   "metadata": {},
   "source": [
    "# Br$_\\gamma$ emmission in full-resolution GRAVITY data\n",
    "\n",
    "load GRAVITY data at full spectral resolution, with correction from tellurics already done (check [this tutorial](https://htmlpreview.github.io/?https://github.com/amerand/PMOIRED_examples/blob/main/html/EX5%20Binary%20with%20spectroscopic%20lines.html) if you are interested how this works)."
   ]
  },
  {
   "cell_type": "code",
   "execution_count": null,
   "id": "58acb56a-8cd0-4208-a150-2373f441431a",
   "metadata": {
    "scrolled": true
   },
   "outputs": [],
   "source": [
    "oi2 = pmoired.OI('./DATA/G*viscalibrated.fits', insname=\"GRAVITY_SC\")\n",
    "oi2.fig = 1000 # offset figure counter so we keep previous figures in the notebook"
   ]
  },
  {
   "cell_type": "code",
   "execution_count": null,
   "id": "0a27746a-87ac-43cb-8497-2c5555e6e480",
   "metadata": {},
   "outputs": [],
   "source": [
    "# check the telluric model, zoom around 2.166um to see the Br_gamma line, note the deep tellurics very close!:\n",
    "tellcorr.showTellurics(oi2.data[12]['filename'], fig=0)"
   ]
  },
  {
   "cell_type": "markdown",
   "id": "7b89a6ba-e3a5-4674-9a7c-1cd80fa08643",
   "metadata": {},
   "source": [
    "## Add to the continnum model 2 blobs in emission around Brackett $\\gamma$\n",
    "\n",
    "\n",
    "in `setupFit`,  we can use purely differential quantities: `NFLUX` (flux normalised to continuum), `N|V|` (visibility amplitude normalised to continuum) and `DPHI` (differential phase, with continuum substracted). We use `'wl ranges':[(2.1661-0.007, 2.1661+0.007)]` to limit to the range around Br$_\\gamma$. Because uncertainties in data seem optimistic, we set some `min error` and `min relative error`.\n",
    "\n",
    "Looking at the double peak line in the spectrum, and the S shape in the differential phase, add 2 components with emission lines (blue- and red-shifted). Based on the visibility amplitude, what should be their sizes compared to the continuum disk? \n",
    "\n",
    "To setup components in emission:\n",
    "- `...,ud` or `...,fwhm` to set its morphology and size (in mas)\n",
    "- `...,x`, `...,y`: position offest (RA, Dec) in mas\n",
    "- `...,line_brg_wl0` central wavelength in um\n",
    "- `...,line_brg_gaussian` gaussian line full width at half maximum in nm\n",
    "- `...,line_brg_f` amplitude (>0 for emission, <0 for absorption)\n",
    "- `...,f` continuum flux: set it to 0 and do not fit it!\n",
    "\n",
    "in `doFit`, use the `fitOnly` keyword to give a list the parameters to fit: you should only list the ones relative to the components with spectral features (i.e. the one you added), but not the continuum flux!"
   ]
  },
  {
   "cell_type": "code",
   "execution_count": null,
   "id": "ccbe2e69-4e68-41c8-9bdb-f5bf39338270",
   "metadata": {},
   "outputs": [],
   "source": [
    "# -- isolate fitting region aroung data around Br gamma\n",
    "oi2.setupFit({'obs':['T3PHI', 'DPHI', 'NFLUX', '|V|'],\n",
    "             'wl ranges':[(2.1661-0.007, 2.1661+0.007)],\n",
    "            })\n",
    "oi2.show()\n"
   ]
  },
  {
   "cell_type": "code",
   "execution_count": null,
   "id": "47d2b72a-5e0a-43de-8026-77851abcc24c",
   "metadata": {},
   "outputs": [],
   "source": [
    "# -- best continuum model from above\n",
    "m = {}\n",
    "\n",
    "# -- add emission line blobs\n",
    "m.update({})\n",
    "\n",
    "# -- only fit blobs' parameters (but not their continuum fluxes!)\n",
    "fitOnly = []\n",
    "prior = []\n",
    "\n",
    "# -- solutions\n",
    "# m, doNotFit, prior = solutions.continuum['m'], solutions.continuum['doNotFit'], solutions.continuum['prior']\n",
    "# m.update(solutions.blobs['add'])\n",
    "# fitOnly = solutions.blobs['fitOnly']\n",
    "\n",
    "oi2.setupFit({'obs':['N|V|', # normalised visibility\n",
    "                    'DPHI',  # differential phase\n",
    "                    'NFLUX', # normalised flux\n",
    "                   ],\n",
    "             'min relative error':{'NFLUX':0.02, 'N|V|':0.01},\n",
    "             'min error':{'DPHI':1, 'T3PHI':2},\n",
    "             'wl ranges':[(2.1661-0.007, 2.1661+0.007)],\n",
    "            })\n",
    "\n",
    "doFit = True # -- when you ready, try to fit!\n",
    "\n",
    "if doFit:\n",
    "    oi2.doFit(m, fitOnly=fitOnly, prior=prior)\n",
    "    m = oi2.bestfit['best']\n",
    "\n",
    "oi2.show(m, imFov=10, imMax='99', imPow=0.5, imWl0=[2.16, 2.1655, 2.16685], imPlx=3.2831, vWl0=2.1662)"
   ]
  },
  {
   "cell_type": "markdown",
   "id": "772b6c2b-5799-484a-820c-f725a4b56e25",
   "metadata": {},
   "source": [
    "## Add Keplerian disk to the continuum model\n",
    "\n",
    "For a full intro to the Keplerian rim, check out [PMOIRED example](https://github.com/amerand/PMOIRED_examples) [#4](https://htmlpreview.github.io/?https://github.com/amerand/PMOIRED_examples/blob/main/html/EX4%20Be%20model%20comparison%20with%20AMHRA.html). This model is a re-implementation of the model described in [Delaa et al. (2011)](https://ui.adsabs.harvard.edu/abs/2011A%26A...529A..87D/abstract) and [Meilland et al. (2012)](https://ui.adsabs.harvard.edu/abs/2012A%26A...538A.110M/abstract), originaly developped to interpret VEGA and AMBER observations of Be stars.\n",
    "\n",
    "- `kep,incl`: inclination in degrees\n",
    "- `kep,projang`: position angle in degrees\n",
    "- `kep,diamin`: inner diameter of the Keplerian disk, in mas \n",
    "- `kep,diamout`:  outer diameter of the Keplerian disk, in mas\n",
    "- `kep,Vin`: velocity in km/s at `diamin`, sign defines the rotation direction\n",
    "- `kep,line_brg_rpow`:  power law for the radial intensity profile in the line, e.g. -2\n",
    "- `kep,line_brg_EW`: equivalent width in nm, (assuming continnum flux is 1!)\n",
    "- `kep,line_brg_wl0`: central wavelength in um\n",
    "\n",
    "Optional parameters:\n",
    "- `kep,beta`: velocity power law (if not defined, assumed Keplerian, i.e -1/2)\n",
    "- `kep,x`, `kep,y`:position of the disk, in mas (default is 0,0)\n",
    "\n",
    "*Note that in the [Bouarour et al. (2024)](https://arxiv.org/pdf/2312.08819.pdf), they find a misalignement between the continuum disk and the Keplerian disk. Compare the inclination/PA of your continuum disk with the Keplerian disk seen in Br$_\\gamma$ emission.*"
   ]
  },
  {
   "cell_type": "code",
   "execution_count": null,
   "id": "063e8737-d068-4ae2-9144-2677fc8e2b55",
   "metadata": {},
   "outputs": [],
   "source": [
    "\n",
    "# copy your best continuum model, add a keplerian disk\n",
    "m = {}\n",
    "fitOnly = []\n",
    "prior = []\n",
    "\n",
    "\n",
    "# -- solution\n",
    "m, doNotFit, prior = solutions.continuum['m'], solutions.continuum['doNotFit'], solutions.continuum['prior']\n",
    "m.update(solutions.kep['add'])\n",
    "fitOnly = solutions.kep['fitOnly']\n",
    "\n",
    "oi2.setupFit({'obs':['N|V|', 'DPHI', 'NFLUX'],\n",
    "             'min relative error':{'NFLUX':0.02, 'N|V|':0.01},\n",
    "             'min error':{'DPHI':1, 'T3PHI':2},\n",
    "             'wl ranges':[(2.1661-0.007, 2.1661+0.007)],\n",
    "            })\n",
    "\n",
    "doFit = True # -- when you ready, try to fit!\n",
    "if doFit:\n",
    "    oi2.doFit(m, fitOnly=fitOnly, prior=prior)\n",
    "    m = oi2.bestfit['best']\n",
    "    \n",
    "oi2.show(m, imFov=10, imMax='99', imPow=0.5, imWl0=[2.16, 2.16557, 2.166, 2.1669], imPlx=3.2831, vWl0=2.1662)"
   ]
  },
  {
   "cell_type": "markdown",
   "id": "71de5f17-cdc2-4364-a25e-4fe7bfe3a999",
   "metadata": {},
   "source": [
    "## Estimate the Keplerian mass of the star using the velocity of the \n",
    "\n",
    "You can compare your mass to the one found by [Kurosawa et al. (2016)](https://academic.oup.com/mnras/article/457/2/2236/970588) (especially section 4.2.1 and [table 5](https://academic.oup.com/view-large/16686315))"
   ]
  },
  {
   "cell_type": "code",
   "execution_count": null,
   "id": "f8a9c584-a8ef-461d-aaaf-22fad077012f",
   "metadata": {},
   "outputs": [],
   "source": [
    "#solutions.starMassFromKeplerianDisk(oi2.bestfit['best'])"
   ]
  },
  {
   "cell_type": "markdown",
   "id": "b076d8f3-562d-40bc-8064-922bf8ae4939",
   "metadata": {},
   "source": [
    "# Estimate the upper limit for a companion in the disk"
   ]
  },
  {
   "cell_type": "code",
   "execution_count": null,
   "id": "6af38b97-a4a8-48fa-b557-649e713608cb",
   "metadata": {},
   "outputs": [],
   "source": []
  }
 ],
 "metadata": {
  "kernelspec": {
   "display_name": "Python 3 (ipykernel)",
   "language": "python",
   "name": "python3"
  },
  "language_info": {
   "codemirror_mode": {
    "name": "ipython",
    "version": 3
   },
   "file_extension": ".py",
   "mimetype": "text/x-python",
   "name": "python",
   "nbconvert_exporter": "python",
   "pygments_lexer": "ipython3",
   "version": "3.12.5"
  },
  "widgets": {
   "application/vnd.jupyter.widget-state+json": {
    "state": {},
    "version_major": 2,
    "version_minor": 0
   }
  }
 },
 "nbformat": 4,
 "nbformat_minor": 5
}
